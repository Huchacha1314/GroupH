{
 "cells": [
  {
   "cell_type": "markdown",
   "id": "554ec37c-d072-4c1b-95dc-e69099586c05",
   "metadata": {},
   "source": [
    "# Task 2: First step of a single pedestrian"
   ]
  },
  {
   "cell_type": "markdown",
   "id": "0c4709d9-0a71-4d4a-82c7-19b9a0984ff5",
   "metadata": {},
   "source": [
    "# Imports"
   ]
  },
  {
   "cell_type": "code",
   "execution_count": 62,
   "id": "b3265ceb-03c7-499f-b201-a418628fcd22",
   "metadata": {
    "pycharm": {
     "is_executing": true
    }
   },
   "outputs": [],
   "source": [
    "import numpy as np\n",
    "from tkinter import *\n",
    "from CellGrid import *\n",
    "from Simulation import *\n",
    "from distance import*\n",
    "from visualize import target_grid_to_image\n",
    "from update_state import *\n",
    "from prepare_setup import *\n",
    "\n",
    "import time\n",
    "\n",
    "%reload_ext autoreload\n",
    "%autoreload 2"
   ]
  },
  {
   "cell_type": "markdown",
   "id": "42f14183-1912-418e-b556-7e8ef195d47b",
   "metadata": {},
   "source": [
    "## defining the setup of the simulation"
   ]
  },
  {
   "cell_type": "code",
   "execution_count": 63,
   "id": "de9d4551-7f75-43a5-a8bf-a707916d2c8d",
   "metadata": {},
   "outputs": [],
   "source": [
    "Grid = CellGrid(None, 50, 50, 15)\n",
    "Grid.grid[5][25].state = 'pedestrian'\n",
    "Grid.grid[25][25].state = 'target'\n",
    "\n",
    "Grid, pedestrians, targets, distance_matrix = prepare_setup(Grid)\n",
    "root = Tk()"
   ]
  },
  {
   "cell_type": "markdown",
   "id": "132fffec-87cf-4626-ac42-42722b140cd5",
   "metadata": {},
   "source": [
    "# Run the simuation for task 2"
   ]
  },
  {
   "cell_type": "code",
   "execution_count": 64,
   "id": "1c785112-30fb-44b1-b643-0b7222a7c247",
   "metadata": {},
   "outputs": [
    {
     "name": "stdout",
     "output_type": "stream",
     "text": [
      "1\n",
      "2\n",
      "3\n",
      "4\n",
      "5\n",
      "6\n",
      "7\n",
      "8\n",
      "9\n",
      "10\n",
      "11\n",
      "12\n",
      "13\n",
      "14\n",
      "15\n",
      "16\n",
      "17\n",
      "18\n",
      "19\n",
      "20\n",
      "21\n",
      "22\n",
      "23\n"
     ]
    },
    {
     "name": "stderr",
     "output_type": "stream",
     "text": [
      "Exception in Tkinter callback\n",
      "Traceback (most recent call last):\n",
      "  File \"C:\\Users\\Florian Koch\\anaconda3\\lib\\tkinter\\__init__.py\", line 1892, in __call__\n",
      "    return self.func(*args)\n",
      "  File \"C:\\Users\\Florian Koch\\Documents\\GitHub\\ML-in-crowd-M-S\\EX 1\\EX1\\Simulation.py\", line 42, in handleMouseClick\n",
      "    self.update_step()\n",
      "  File \"C:\\Users\\Florian Koch\\Documents\\GitHub\\ML-in-crowd-M-S\\EX 1\\EX1\\Simulation.py\", line 47, in update_step\n",
      "    self.draw()\n",
      "  File \"C:\\Users\\Florian Koch\\Documents\\GitHub\\ML-in-crowd-M-S\\EX 1\\EX1\\Simulation.py\", line 37, in draw\n",
      "    cell.draw(cell.state)\n",
      "  File \"C:\\Users\\Florian Koch\\Documents\\GitHub\\ML-in-crowd-M-S\\EX 1\\EX1\\Cell.py\", line 51, in draw\n",
      "    self.master.create_rectangle(xmin, ymin, xmax, ymax, fill=fill, outline=outline)\n",
      "  File \"C:\\Users\\Florian Koch\\anaconda3\\lib\\tkinter\\__init__.py\", line 2806, in create_rectangle\n",
      "    return self._create('rectangle', args, kw)\n",
      "  File \"C:\\Users\\Florian Koch\\anaconda3\\lib\\tkinter\\__init__.py\", line 2776, in _create\n",
      "    return self.tk.getint(self.tk.call(\n",
      "_tkinter.TclError: invalid command name \".!simulation\"\n"
     ]
    }
   ],
   "source": [
    "application = Simulation(None, 50, 50, 20, Grid.grid, pedestrians, targets, distance_matrix,25)\n",
    "application.pack()\n",
    "\n",
    "root.mainloop()"
   ]
  },
  {
   "cell_type": "code",
   "execution_count": null,
   "id": "9ab5ba8c-617a-4aee-a4fc-ec34b29df7e7",
   "metadata": {},
   "outputs": [],
   "source": []
  }
 ],
 "metadata": {
  "kernelspec": {
   "display_name": "Python 3 (ipykernel)",
   "language": "python",
   "name": "python3"
  },
  "language_info": {
   "codemirror_mode": {
    "name": "ipython",
    "version": 3
   },
   "file_extension": ".py",
   "mimetype": "text/x-python",
   "name": "python",
   "nbconvert_exporter": "python",
   "pygments_lexer": "ipython3",
   "version": "3.9.12"
  }
 },
 "nbformat": 4,
 "nbformat_minor": 5
}
