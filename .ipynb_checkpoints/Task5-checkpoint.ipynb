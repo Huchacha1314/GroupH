{
 "cells": [
  {
   "cell_type": "markdown",
   "id": "2e71c728-db85-46a5-b9e4-8086fb998342",
   "metadata": {},
   "source": [
    "# Task 5: Tests"
   ]
  },
  {
   "cell_type": "markdown",
   "id": "4364c235-67a8-493a-bac0-f4104265ab08",
   "metadata": {},
   "source": [
    "## Test 1 RiMEA scenario 1:"
   ]
  },
  {
   "cell_type": "code",
   "execution_count": 5,
   "id": "843bf2ba-7601-475e-98d7-139a2aaa18d2",
   "metadata": {},
   "outputs": [
    {
     "ename": "IndentationError",
     "evalue": "expected an indented block (update_grid.py, line 2)",
     "output_type": "error",
     "traceback": [
      "Traceback \u001b[0;36m(most recent call last)\u001b[0m:\n",
      "  File \u001b[1;32m\"/opt/anaconda3/envs/mypytorch/lib/python3.7/site-packages/IPython/core/interactiveshell.py\"\u001b[0m, line \u001b[1;32m3457\u001b[0m, in \u001b[1;35mrun_code\u001b[0m\n    exec(code_obj, self.user_global_ns, self.user_ns)\n",
      "  File \u001b[1;32m\"/var/folders/vw/3cjp4q1d79l9b04xsx55f_s40000gn/T/ipykernel_46374/203318076.py\"\u001b[0m, line \u001b[1;32m3\u001b[0m, in \u001b[1;35m<module>\u001b[0m\n    from CellGrid import *\n",
      "\u001b[0;36m  File \u001b[0;32m\"/Users/hujiaxin/Desktop/ML-in-crowd-M-S-main/EX 1/EX1/CellGrid.py\"\u001b[0;36m, line \u001b[0;32m3\u001b[0;36m, in \u001b[0;35m<module>\u001b[0;36m\u001b[0m\n\u001b[0;31m    from update_grid import *\u001b[0m\n",
      "\u001b[0;36m  File \u001b[0;32m\"/Users/hujiaxin/Desktop/ML-in-crowd-M-S-main/EX 1/EX1/update_grid.py\"\u001b[0;36m, line \u001b[0;32m2\u001b[0m\n\u001b[0;31m    class UpdateGrid:\u001b[0m\n\u001b[0m        ^\u001b[0m\n\u001b[0;31mIndentationError\u001b[0m\u001b[0;31m:\u001b[0m expected an indented block\n"
     ]
    }
   ],
   "source": [
    "import numpy as np\n",
    "from tkinter import *\n",
    "from CellGrid import *\n",
    "from Simulation import *\n",
    "from visualize import target_grid_to_image\n",
    "from update_state import *\n",
    "from prepare_setup import *\n",
    "from distance import *\n",
    "import time\n",
    "\n",
    "%reload_ext autoreload\n",
    "%autoreload 2"
   ]
  },
  {
   "cell_type": "markdown",
   "id": "705d09b1-44b3-47f3-ac98-04d88e2fc248",
   "metadata": {},
   "source": [
    "### define setup for test 1\n"
   ]
  },
  {
   "cell_type": "code",
   "execution_count": 30,
   "id": "7b998b0a-8187-475b-9b44-5f85e8784f01",
   "metadata": {},
   "outputs": [],
   "source": [
    "Grid1 = CellGrid(None, 40, 40, 20)\n",
    "\n",
    "for i in range(40):\n",
    "    Grid1.grid[19][i].state = 'obstacle'\n",
    "    Grid1.grid[22][i].state = 'obstacle'\n",
    "Grid1.grid[21][0].state = 'pedestrian'\n",
    "Grid1.grid[20][39].state = 'target'\n",
    "Grid1.grid[21][39].state = 'target'\n",
    "\n",
    "Grid1, pedestrians1, targets1, distance_matrix1 = prepare_setup(Grid1)\n",
    "root1 = Tk()"
   ]
  },
  {
   "cell_type": "code",
   "execution_count": 31,
   "id": "49a6ea41-1fbe-48e4-b464-be84e50f1e83",
   "metadata": {},
   "outputs": [
    {
     "name": "stdout",
     "output_type": "stream",
     "text": [
      "1\n",
      "2\n",
      "3\n",
      "4\n",
      "5\n",
      "6\n",
      "7\n",
      "8\n",
      "9\n",
      "10\n",
      "11\n"
     ]
    },
    {
     "name": "stderr",
     "output_type": "stream",
     "text": [
      "Exception in Tkinter callback\n",
      "Traceback (most recent call last):\n",
      "  File \"C:\\Users\\Florian Koch\\anaconda3\\lib\\tkinter\\__init__.py\", line 1892, in __call__\n",
      "    return self.func(*args)\n",
      "  File \"C:\\Users\\Florian Koch\\Documents\\GitHub\\ML-in-crowd-M-S\\EX 1\\EX1\\Simulation.py\", line 41, in handleMouseClick\n",
      "    self.update_step()\n",
      "  File \"C:\\Users\\Florian Koch\\Documents\\GitHub\\ML-in-crowd-M-S\\EX 1\\EX1\\Simulation.py\", line 46, in update_step\n",
      "    self.draw()\n",
      "  File \"C:\\Users\\Florian Koch\\Documents\\GitHub\\ML-in-crowd-M-S\\EX 1\\EX1\\Simulation.py\", line 37, in draw\n",
      "    cell.draw(cell.state)\n",
      "  File \"C:\\Users\\Florian Koch\\Documents\\GitHub\\ML-in-crowd-M-S\\EX 1\\EX1\\Cell.py\", line 51, in draw\n",
      "    self.master.create_rectangle(xmin, ymin, xmax, ymax, fill=fill, outline=outline)\n",
      "  File \"C:\\Users\\Florian Koch\\anaconda3\\lib\\tkinter\\__init__.py\", line 2806, in create_rectangle\n",
      "    return self._create('rectangle', args, kw)\n",
      "  File \"C:\\Users\\Florian Koch\\anaconda3\\lib\\tkinter\\__init__.py\", line 2776, in _create\n",
      "    return self.tk.getint(self.tk.call(\n",
      "_tkinter.TclError: invalid command name \".!simulation\"\n"
     ]
    }
   ],
   "source": [
    "application1 = Simulation(None, 40, 40, 20, Grid1.grid, pedestrians1, targets1, distance_matrix1,30)\n",
    "application1.pack()\n",
    "\n",
    "root1.mainloop()"
   ]
  },
  {
   "cell_type": "markdown",
   "id": "e756f123-5fd6-4139-b55a-1bdbfdeaed60",
   "metadata": {},
   "source": [
    "## Test 2:  RiMEA scenario 4"
   ]
  },
  {
   "cell_type": "code",
   "execution_count": 63,
   "id": "8dcf45ab-c775-4adf-8d2a-e2aea8342939",
   "metadata": {},
   "outputs": [],
   "source": [
    "Grid2 = CellGrid(None, 40, 50, 20)\n",
    "\n",
    "#place boundaries\n",
    "for i in range(50):\n",
    "    Grid2.grid[14][i].state = 'obstacle'\n",
    "    Grid2.grid[25][i].state = 'obstacle'\n",
    "\n",
    "# place targets\n",
    "for i in range(10):\n",
    "    Grid2.grid[15 + i][49].state = 'target'\n",
    "\n",
    "Grid2.grid[21][0].state = 'pedestrian'\n",
    "Grid2.grid[20][1].state = 'pedestrian'\n",
    "Grid2.grid[20][0].state = 'pedestrian'\n",
    "Grid2.grid[22][2].state = 'pedestrian'\n",
    "Grid2.grid[18][1].state = 'pedestrian'\n",
    "\n",
    "Grid2, pedestrians2, targets2, distance_matrix2 = prepare_setup(Grid2)\n",
    "root2 = Tk()"
   ]
  },
  {
   "cell_type": "code",
   "execution_count": 64,
   "id": "af4df090-b0cf-4f78-b422-68a1e7abbc6b",
   "metadata": {},
   "outputs": [
    {
     "name": "stdout",
     "output_type": "stream",
     "text": [
      "1\n",
      "2\n",
      "3\n",
      "4\n",
      "5\n",
      "6\n",
      "7\n",
      "8\n",
      "9\n",
      "10\n",
      "11\n",
      "12\n",
      "13\n",
      "14\n",
      "15\n",
      "16\n",
      "17\n",
      "18\n",
      "19\n",
      "20\n",
      "21\n",
      "22\n",
      "23\n",
      "24\n",
      "25\n",
      "26\n",
      "27\n",
      "28\n",
      "29\n",
      "30\n"
     ]
    }
   ],
   "source": [
    "application2 = Simulation(None, 40, 50, 20, Grid2.grid, pedestrians2, targets2, distance_matrix2,50)\n",
    "application2.pack()\n",
    "\n",
    "root2.mainloop()"
   ]
  },
  {
   "cell_type": "markdown",
   "id": "0b3bdcf3-b960-40d1-9f3e-e1e9d7dfc26e",
   "metadata": {
    "tags": []
   },
   "source": [
    "## Test 3 RiMEA scenario 6"
   ]
  },
  {
   "cell_type": "code",
   "execution_count": 23,
   "id": "3a131ecd-6ab3-4ca0-9538-c2b1401d0b0b",
   "metadata": {},
   "outputs": [],
   "source": [
    "Grid3 = CellGrid(None, 14, 14, 20)\n",
    "\n",
    "#place boundaries\n",
    "for i in range(10):\n",
    "    Grid3.grid[10][i].state = 'obstacle'\n",
    "    Grid3.grid[13][i].state = 'obstacle'\n",
    "    Grid3.grid[0+i][9].state = 'obstacle'\n",
    "    Grid3.grid[0+i][12].state = 'obstacle'\n",
    "    \n",
    "Grid3.grid[13][10].state = 'obstacle'\n",
    "Grid3.grid[13][11].state = 'obstacle'\n",
    "Grid3.grid[13][12].state = 'obstacle'\n",
    "Grid3.grid[12][12].state = 'obstacle'\n",
    "Grid3.grid[11][12].state = 'obstacle'\n",
    "Grid3.grid[10][12].state = 'obstacle'\n",
    "\n",
    "# place targets\n",
    "Grid3.grid[0][10].state = 'target'\n",
    "Grid3.grid[0][11].state = 'target'\n",
    "\n",
    "\n",
    "for i in range(5):\n",
    "    for j in range(2):\n",
    "        Grid3.grid[11+j][i].state = 'pedestrian'\n",
    "\n",
    "\n",
    "Grid3, pedestrians3, targets3, distance_matrix3 = prepare_setup(Grid3)\n",
    "root3 = Tk()"
   ]
  },
  {
   "cell_type": "code",
   "execution_count": 24,
   "id": "083ae30c-9d71-45e3-aed2-0eea1cac424f",
   "metadata": {},
   "outputs": [
    {
     "name": "stdout",
     "output_type": "stream",
     "text": [
      "1\n",
      "2\n",
      "3\n",
      "4\n",
      "5\n",
      "6\n",
      "7\n",
      "8\n",
      "9\n",
      "10\n",
      "11\n",
      "12\n",
      "13\n",
      "14\n",
      "15\n",
      "16\n",
      "17\n",
      "18\n",
      "19\n",
      "20\n",
      "21\n",
      "22\n",
      "23\n",
      "24\n",
      "25\n",
      "26\n",
      "27\n",
      "28\n",
      "29\n",
      "30\n",
      "31\n",
      "32\n",
      "33\n",
      "34\n",
      "35\n",
      "36\n",
      "37\n",
      "38\n",
      "39\n",
      "40\n"
     ]
    },
    {
     "name": "stderr",
     "output_type": "stream",
     "text": [
      "Exception in Tkinter callback\n",
      "Traceback (most recent call last):\n",
      "  File \"C:\\Users\\Florian Koch\\anaconda3\\lib\\tkinter\\__init__.py\", line 1892, in __call__\n",
      "    return self.func(*args)\n",
      "  File \"C:\\Users\\Florian Koch\\Documents\\GitHub\\ML-in-crowd-M-S\\EX 1\\EX1\\Simulation.py\", line 41, in handleMouseClick\n",
      "    self.update_step()\n",
      "  File \"C:\\Users\\Florian Koch\\Documents\\GitHub\\ML-in-crowd-M-S\\EX 1\\EX1\\Simulation.py\", line 47, in update_step\n",
      "    self.draw()\n",
      "  File \"C:\\Users\\Florian Koch\\Documents\\GitHub\\ML-in-crowd-M-S\\EX 1\\EX1\\Simulation.py\", line 37, in draw\n",
      "    cell.draw(cell.state)\n",
      "  File \"C:\\Users\\Florian Koch\\Documents\\GitHub\\ML-in-crowd-M-S\\EX 1\\EX1\\Cell.py\", line 51, in draw\n",
      "    self.master.create_rectangle(xmin, ymin, xmax, ymax, fill=fill, outline=outline)\n",
      "  File \"C:\\Users\\Florian Koch\\anaconda3\\lib\\tkinter\\__init__.py\", line 2806, in create_rectangle\n",
      "    return self._create('rectangle', args, kw)\n",
      "  File \"C:\\Users\\Florian Koch\\anaconda3\\lib\\tkinter\\__init__.py\", line 2776, in _create\n",
      "    return self.tk.getint(self.tk.call(\n",
      "_tkinter.TclError: invalid command name \".!simulation\"\n"
     ]
    }
   ],
   "source": [
    "application3 = Simulation(None, 14, 14, 40, Grid3.grid, pedestrians3, targets3, distance_matrix3,50)\n",
    "application3.pack()\n",
    "\n",
    "root3.mainloop()"
   ]
  },
  {
   "cell_type": "markdown",
   "id": "faed30a7-8d13-48d8-98fa-668966ec7556",
   "metadata": {},
   "source": [
    "# Test 4: RiMEA scenario 7"
   ]
  },
  {
   "cell_type": "code",
   "execution_count": 4,
   "id": "b456753e-95e0-4d11-9e24-dd27ddeb96f0",
   "metadata": {},
   "outputs": [
    {
     "ename": "NameError",
     "evalue": "name 'CellGrid' is not defined",
     "output_type": "error",
     "traceback": [
      "\u001b[0;31m---------------------------------------------------------------------------\u001b[0m",
      "\u001b[0;31mNameError\u001b[0m                                 Traceback (most recent call last)",
      "\u001b[0;32m/var/folders/vw/3cjp4q1d79l9b04xsx55f_s40000gn/T/ipykernel_46374/2543621547.py\u001b[0m in \u001b[0;36m<module>\u001b[0;34m\u001b[0m\n\u001b[0;32m----> 1\u001b[0;31m \u001b[0mGrid4\u001b[0m \u001b[0;34m=\u001b[0m \u001b[0mCellGrid\u001b[0m\u001b[0;34m(\u001b[0m\u001b[0;32mNone\u001b[0m\u001b[0;34m,\u001b[0m \u001b[0;36m51\u001b[0m\u001b[0;34m,\u001b[0m \u001b[0;36m50\u001b[0m\u001b[0;34m,\u001b[0m \u001b[0;36m20\u001b[0m\u001b[0;34m)\u001b[0m\u001b[0;34m\u001b[0m\u001b[0;34m\u001b[0m\u001b[0m\n\u001b[0m\u001b[1;32m      2\u001b[0m \u001b[0;34m\u001b[0m\u001b[0m\n\u001b[1;32m      3\u001b[0m \u001b[0;32mfor\u001b[0m \u001b[0mi\u001b[0m \u001b[0;32min\u001b[0m \u001b[0mrange\u001b[0m\u001b[0;34m(\u001b[0m\u001b[0;36m50\u001b[0m\u001b[0;34m)\u001b[0m\u001b[0;34m:\u001b[0m\u001b[0;34m\u001b[0m\u001b[0;34m\u001b[0m\u001b[0m\n\u001b[1;32m      4\u001b[0m     \u001b[0mGrid4\u001b[0m\u001b[0;34m.\u001b[0m\u001b[0mgrid\u001b[0m\u001b[0;34m[\u001b[0m\u001b[0mi\u001b[0m\u001b[0;34m]\u001b[0m\u001b[0;34m[\u001b[0m\u001b[0;36m0\u001b[0m\u001b[0;34m]\u001b[0m\u001b[0;34m.\u001b[0m\u001b[0mstate\u001b[0m \u001b[0;34m=\u001b[0m \u001b[0;34m'pedestrian'\u001b[0m\u001b[0;34m\u001b[0m\u001b[0;34m\u001b[0m\u001b[0m\n\u001b[1;32m      5\u001b[0m     \u001b[0mGrid4\u001b[0m\u001b[0;34m.\u001b[0m\u001b[0mgrid\u001b[0m\u001b[0;34m[\u001b[0m\u001b[0mi\u001b[0m\u001b[0;34m]\u001b[0m\u001b[0;34m[\u001b[0m\u001b[0;36m49\u001b[0m\u001b[0;34m]\u001b[0m\u001b[0;34m.\u001b[0m\u001b[0mstate\u001b[0m \u001b[0;34m=\u001b[0m \u001b[0;34m'target'\u001b[0m\u001b[0;34m\u001b[0m\u001b[0;34m\u001b[0m\u001b[0m\n",
      "\u001b[0;31mNameError\u001b[0m: name 'CellGrid' is not defined"
     ]
    }
   ],
   "source": [
    "Grid4 = CellGrid(None, 51, 50, 20)\n",
    "\n",
    "for i in range(50):\n",
    "    Grid4.grid[i][0].state = 'pedestrian'\n",
    "    Grid4.grid[i][49].state = 'target'\n",
    "\n",
    "Grid4, pedestrians4, targets4, distance_matrix4 = prepare_setup(Grid4)\n",
    "root4 = Tk()"
   ]
  },
  {
   "cell_type": "code",
   "execution_count": null,
   "id": "d0acd0af-d0ff-4da9-9689-3ab6d847e07d",
   "metadata": {},
   "outputs": [
    {
     "name": "stdout",
     "output_type": "stream",
     "text": [
      "1\n",
      "2\n",
      "3\n",
      "4\n",
      "5\n",
      "6\n",
      "7\n",
      "8\n",
      "9\n",
      "10\n",
      "11\n",
      "12\n",
      "13\n",
      "14\n",
      "15\n",
      "16\n",
      "17\n",
      "18\n",
      "19\n",
      "20\n"
     ]
    },
    {
     "name": "stderr",
     "output_type": "stream",
     "text": [
      "Exception in Tkinter callback\n",
      "Traceback (most recent call last):\n",
      "  File \"C:\\Users\\Florian Koch\\anaconda3\\lib\\tkinter\\__init__.py\", line 1892, in __call__\n",
      "    return self.func(*args)\n",
      "  File \"C:\\Users\\Florian Koch\\Documents\\GitHub\\ML-in-crowd-M-S\\EX 1\\EX1\\Simulation.py\", line 41, in handleMouseClick\n",
      "    self.update_step()\n",
      "  File \"C:\\Users\\Florian Koch\\Documents\\GitHub\\ML-in-crowd-M-S\\EX 1\\EX1\\Simulation.py\", line 47, in update_step\n",
      "    self.draw()\n",
      "  File \"C:\\Users\\Florian Koch\\Documents\\GitHub\\ML-in-crowd-M-S\\EX 1\\EX1\\Simulation.py\", line 37, in draw\n",
      "    cell.draw(cell.state)\n",
      "  File \"C:\\Users\\Florian Koch\\Documents\\GitHub\\ML-in-crowd-M-S\\EX 1\\EX1\\Cell.py\", line 51, in draw\n",
      "    self.master.create_rectangle(xmin, ymin, xmax, ymax, fill=fill, outline=outline)\n",
      "  File \"C:\\Users\\Florian Koch\\anaconda3\\lib\\tkinter\\__init__.py\", line 2806, in create_rectangle\n",
      "    return self._create('rectangle', args, kw)\n",
      "  File \"C:\\Users\\Florian Koch\\anaconda3\\lib\\tkinter\\__init__.py\", line 2776, in _create\n",
      "    return self.tk.getint(self.tk.call(\n",
      "_tkinter.TclError: invalid command name \".!simulation\"\n"
     ]
    }
   ],
   "source": [
    "application4 = Simulation(None, 51, 50, 20, Grid4.grid, pedestrians4, targets4, distance_matrix4,50)\n",
    "application4.pack()\n",
    "\n",
    "root4.mainloop()"
   ]
  },
  {
   "cell_type": "code",
   "execution_count": null,
   "id": "774c7de8-fe88-4460-8f21-740213adccad",
   "metadata": {},
   "outputs": [],
   "source": []
  }
 ],
 "metadata": {
  "kernelspec": {
   "display_name": "Python 3 (ipykernel)",
   "language": "python",
   "name": "python3"
  },
  "language_info": {
   "codemirror_mode": {
    "name": "ipython",
    "version": 3
   },
   "file_extension": ".py",
   "mimetype": "text/x-python",
   "name": "python",
   "nbconvert_exporter": "python",
   "pygments_lexer": "ipython3",
   "version": "3.7.11"
  }
 },
 "nbformat": 4,
 "nbformat_minor": 5
}
